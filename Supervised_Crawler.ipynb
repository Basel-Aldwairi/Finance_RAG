{
 "cells": [
  {
   "cell_type": "code",
   "execution_count": 20,
   "id": "3fdc8220-f2b0-4b26-ba3f-f234767a1c68",
   "metadata": {},
   "outputs": [],
   "source": [
    "import requests\n",
    "from bs4 import BeautifulSoup\n",
    "from urllib.parse import urljoin\n",
    "import csv"
   ]
  },
  {
   "cell_type": "code",
   "execution_count": 11,
   "id": "c4e2c847-1a03-4790-bb15-de3fc0da6b9a",
   "metadata": {},
   "outputs": [],
   "source": [
    "headers = {\n",
    "    \"User-Agent\": \"Mozilla/5.0 (Windows NT 10.0; Win64; x64) AppleWebKit/537.36 (KHTML, like Gecko) Chrome/129.0.0.0 Safari/537.36\",\n",
    "    \"Accept-Language\": \"en-US,en;q=0.9\",\n",
    "    \"Accept\": \"text/html,application/xhtml+xml,application/xml;q=0.9,*/*;q=0.8\",\n",
    "    \"Connection\": \"keep-alive\"\n",
    "}\n",
    "\n",
    "session = requests.Session()\n",
    "session.headers.update(headers)"
   ]
  },
  {
   "cell_type": "code",
   "execution_count": 31,
   "id": "02aab66e-fb29-47af-88f2-b7f2614d1d0b",
   "metadata": {},
   "outputs": [],
   "source": [
    "urls = {'arab':'https://www.arabbank.jo/',\n",
    "        'jordan':'https://bankofjordan.com/',\n",
    "        'etihad':'https://www.bankaletihad.com/en/',\n",
    "       'housing':'https://hbtf.com/en'}\n",
    "# base_url = 'https://www.arabbank.jo/'\n",
    "# resp = requests.get(base_url)"
   ]
  },
  {
   "cell_type": "code",
   "execution_count": 32,
   "id": "63e8e29c-8a09-4dbc-9d73-f576b9ee84c8",
   "metadata": {},
   "outputs": [
    {
     "name": "stdout",
     "output_type": "stream",
     "text": [
      "411\n",
      "283\n",
      "61\n",
      "326\n"
     ]
    }
   ],
   "source": [
    "for bank,base_url in urls.items():\n",
    "    resp = requests.get(base_url)\n",
    "\n",
    "    soup = BeautifulSoup(resp.text,'html.parser')\n",
    "    \n",
    "    links = []\n",
    "    for a in soup.find_all('a',href=True):\n",
    "        href = urljoin(base_url,a['href'])\n",
    "        text = a.get_text(strip=True)\n",
    "        links.append((text,href))\n",
    "\n",
    "    with open(f'{bank}_links_script_2.csv','w',newline='',encoding='utf-8') as f:\n",
    "        writer = csv.writer(f)\n",
    "        writer.writerow(['Name','URL'])\n",
    "        writer.writerows(links)\n",
    "\n",
    "    print(len(links))"
   ]
  }
 ],
 "metadata": {
  "kernelspec": {
   "display_name": "Python 3 (ipykernel)",
   "language": "python",
   "name": "python3"
  },
  "language_info": {
   "codemirror_mode": {
    "name": "ipython",
    "version": 3
   },
   "file_extension": ".py",
   "mimetype": "text/x-python",
   "name": "python",
   "nbconvert_exporter": "python",
   "pygments_lexer": "ipython3",
   "version": "3.12.3"
  }
 },
 "nbformat": 4,
 "nbformat_minor": 5
}
