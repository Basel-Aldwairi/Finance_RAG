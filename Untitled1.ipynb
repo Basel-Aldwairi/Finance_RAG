{
 "cells": [
  {
   "cell_type": "code",
   "execution_count": 1,
   "id": "7f750ba9-91d2-4bdb-9fe8-3e4cafdbb433",
   "metadata": {},
   "outputs": [],
   "source": [
    "import re"
   ]
  },
  {
   "cell_type": "code",
   "execution_count": 2,
   "id": "e7cefda3-2942-4c4e-ba34-c89761eace3d",
   "metadata": {},
   "outputs": [],
   "source": [
    "web = 'https://hbtf.com/en'"
   ]
  },
  {
   "cell_type": "code",
   "execution_count": 8,
   "id": "fba4ebdb-0358-4df7-ab39-67b22eb88a58",
   "metadata": {},
   "outputs": [
    {
     "ename": "NameError",
     "evalue": "name 'url' is not defined",
     "output_type": "error",
     "traceback": [
      "\u001b[31m---------------------------------------------------------------------------\u001b[39m",
      "\u001b[31mNameError\u001b[39m                                 Traceback (most recent call last)",
      "\u001b[36mCell\u001b[39m\u001b[36m \u001b[39m\u001b[32mIn[8]\u001b[39m\u001b[32m, line 1\u001b[39m\n\u001b[32m----> \u001b[39m\u001b[32m1\u001b[39m f= re.search(\u001b[33mr\u001b[39m\u001b[33m\"\u001b[39m\u001b[33mhttps?://(?:www\u001b[39m\u001b[33m\\\u001b[39m\u001b[33m.)?([^./]+)\u001b[39m\u001b[33m\"\u001b[39m, \u001b[43murl\u001b[49m)\n\u001b[32m      2\u001b[39m \u001b[38;5;28mprint\u001b[39m(f.group(\u001b[32m0\u001b[39m))\n",
      "\u001b[31mNameError\u001b[39m: name 'url' is not defined"
     ]
    }
   ],
   "source": [
    "f= re.search(r\"https?://(?:www\\.)?([^./]+)\", )\n",
    "print(f.group(0))"
   ]
  },
  {
   "cell_type": "code",
   "execution_count": null,
   "id": "88f8fe5c-13e8-4afd-ab53-ed2712c70b2e",
   "metadata": {},
   "outputs": [],
   "source": []
  }
 ],
 "metadata": {
  "kernelspec": {
   "display_name": "Python 3 (ipykernel)",
   "language": "python",
   "name": "python3"
  },
  "language_info": {
   "codemirror_mode": {
    "name": "ipython",
    "version": 3
   },
   "file_extension": ".py",
   "mimetype": "text/x-python",
   "name": "python",
   "nbconvert_exporter": "python",
   "pygments_lexer": "ipython3",
   "version": "3.12.3"
  }
 },
 "nbformat": 4,
 "nbformat_minor": 5
}
