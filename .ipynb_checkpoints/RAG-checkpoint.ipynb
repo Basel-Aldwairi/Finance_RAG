{
 "cells": [
  {
   "cell_type": "code",
   "execution_count": null,
   "id": "859b913c-122e-446b-acc8-49f7b8e7e769",
   "metadata": {},
   "outputs": [],
   "source": [
    "from sentence_transformers import SentenceTransformer\n",
    "import faiss\n",
    "from transformers import AutoTokenizer, AutoModelForCausalLM, pipeline\n",
    "import numpy as np\n",
    "from textwrap import dedent\n",
    "import pandas as pd\n",
    "from langchain.text_splitter import RecursiveCharacterTextSplitter\n",
    "from vllm import LLM, SamplingParams\n",
    "import torch\n",
    "import re"
   ]
  },
  {
   "cell_type": "code",
   "execution_count": null,
   "id": "8dfe8412-7ea3-4630-9fa7-9847dd1a2893",
   "metadata": {},
   "outputs": [],
   "source": [
    "torch.backends.cuda.matmul.allow_tf32 = True"
   ]
  },
  {
   "cell_type": "code",
   "execution_count": null,
   "id": "9ff9f9d0-7165-49c5-9b43-e4f3d0ca2091",
   "metadata": {},
   "outputs": [],
   "source": [
    "embed_model = SentenceTransformer('all-MiniLM-L6-v2')"
   ]
  },
  {
   "cell_type": "code",
   "execution_count": null,
   "id": "19359924-7340-41b3-8701-b82850bca451",
   "metadata": {},
   "outputs": [],
   "source": [
    "splitter = RecursiveCharacterTextSplitter(\n",
    "    chunk_size = 1000,\n",
    "    chunk_overlap = 100\n",
    ")"
   ]
  },
  {
   "cell_type": "code",
   "execution_count": null,
   "id": "c8d532c3-9a4a-4381-9d5b-70b448fa3892",
   "metadata": {},
   "outputs": [],
   "source": [
    "df = pd.read_csv('full_housing_eda.csv')"
   ]
  },
  {
   "cell_type": "code",
   "execution_count": null,
   "id": "21667e88-0cce-492f-bcc2-d4dd1c36f34f",
   "metadata": {},
   "outputs": [],
   "source": [
    "texts = df['Text'].to_list()"
   ]
  },
  {
   "cell_type": "code",
   "execution_count": null,
   "id": "4dd6af36-baa1-41ad-a362-c263b9749a0a",
   "metadata": {},
   "outputs": [],
   "source": [
    "def chunk_text(text,chunk_size=500,chunk_overlap=100):\n",
    "    words = str(text).split()\n",
    "    chunks = []\n",
    "\n",
    "    for i in range(0,len(words),chunk_size - chunk_overlap):\n",
    "        chunk = ' '.join(words[i: i+ chunk_size])\n",
    "        chunks.append(chunk)\n",
    "\n",
    "    return chunks"
   ]
  },
  {
   "cell_type": "code",
   "execution_count": null,
   "id": "8c9e7f78-1603-45f1-9057-bf8976823c14",
   "metadata": {},
   "outputs": [],
   "source": [
    "chunked_texts = list(map(chunk_text,texts))"
   ]
  },
  {
   "cell_type": "code",
   "execution_count": null,
   "id": "1be28f3c-92df-42be-9709-944492d14256",
   "metadata": {},
   "outputs": [],
   "source": [
    "# chunked_texts"
   ]
  },
  {
   "cell_type": "code",
   "execution_count": null,
   "id": "bfde2a8e-6cc9-426f-a14a-dfc815af28ef",
   "metadata": {},
   "outputs": [],
   "source": [
    "docs = chunked_texts"
   ]
  },
  {
   "cell_type": "code",
   "execution_count": null,
   "id": "85d26fc1-5bac-4332-af03-8d33c8eeee6e",
   "metadata": {},
   "outputs": [],
   "source": [
    "flat_docs = [chunk for doc in docs for chunk in doc]"
   ]
  },
  {
   "cell_type": "code",
   "execution_count": null,
   "id": "171231e2-a3c2-4860-b00a-2d0beb1b899f",
   "metadata": {},
   "outputs": [],
   "source": [
    "doc_embeddings = embed_model.encode(flat_docs,convert_to_numpy=True)"
   ]
  },
  {
   "cell_type": "code",
   "execution_count": null,
   "id": "cf23ba40-d27a-4fd6-a922-4e460b795cc7",
   "metadata": {},
   "outputs": [],
   "source": [
    "faiss.normalize_L2(doc_embeddings)"
   ]
  },
  {
   "cell_type": "code",
   "execution_count": null,
   "id": "f5769fc0-7200-4da8-aeed-b15b52697db5",
   "metadata": {},
   "outputs": [],
   "source": [
    "index = faiss.IndexFlatL2(doc_embeddings.shape[1])\n",
    "index.add(doc_embeddings)"
   ]
  },
  {
   "cell_type": "code",
   "execution_count": null,
   "id": "b981a04e-8cdf-41f0-b61e-06d52bc6d351",
   "metadata": {},
   "outputs": [],
   "source": [
    "id2doc= {i: flat_docs[i] for i in range(len(flat_docs))} "
   ]
  },
  {
   "cell_type": "code",
   "execution_count": null,
   "id": "887e4cb8-77c1-4b39-b250-3fc7185b88e2",
   "metadata": {},
   "outputs": [],
   "source": [
    "def retreive(query, top_k=3):\n",
    "    q_emb = embed_model.encode([query],convert_to_numpy=True)\n",
    "    faiss.normalize_L2(q_emb)\n",
    "\n",
    "    D, I =index.search(q_emb,top_k)\n",
    "\n",
    "    retreived_docs = [id2doc[i] for i in I[0]]\n",
    "    return retreived_docs\n"
   ]
  },
  {
   "cell_type": "code",
   "execution_count": null,
   "id": "c4a3fdc9-6fcd-43bf-946c-1fca747ac14c",
   "metadata": {},
   "outputs": [],
   "source": [
    "torch.cuda.empty_cache()"
   ]
  },
  {
   "cell_type": "code",
   "execution_count": null,
   "id": "68d7bb92-952d-4402-9ab2-331f40721dc2",
   "metadata": {},
   "outputs": [],
   "source": [
    "# Load model and tokenizer\n",
    "model_id = \"curiousily/Llama-3-8B-Instruct-Finance-RAG\"\n",
    "model = AutoModelForCausalLM.from_pretrained(\n",
    "    model_id,\n",
    "    device_map=None,\n",
    "    dtype=\"bfloat16\",\n",
    "#    attn_implementation=\"flash_attention_2\" <- uncomment on compatible GPU\n",
    ").to('cuda')\n",
    "tokenizer = AutoTokenizer.from_pretrained(model_id)"
   ]
  },
  {
   "cell_type": "code",
   "execution_count": null,
   "id": "d53ef357-f565-484c-9c00-062e69ac13d5",
   "metadata": {},
   "outputs": [],
   "source": [
    "def gen(prompt):\n",
    "    input_ids = tokenizer.apply_chat_template(\n",
    "        [{\"role\": \"user\", \"content\": prompt}],\n",
    "        add_generation_prompt=True,\n",
    "        return_tensors=\"pt\",\n",
    "        tokenize=True,\n",
    "    ).to(model.device)\n",
    "    \n",
    "    output = model.generate(input_ids,do_sample=True,temperature=0.3,min_p=0.15,repetition_penalty=1.05,max_new_tokens=1024)\n",
    "\n",
    "\n",
    "    raw_output = tokenizer.decode(output[0], skip_special_tokens=False)\n",
    "    print(raw_output)\n",
    "    matches = re.findall(r\"<\\|im_start\\|>assistant\\s*(.*?)(?=<\\|im_end\\|>)\", raw_output, re.S)\n",
    "    if matches:\n",
    "        return matches[-1].strip()"
   ]
  },
  {
   "cell_type": "code",
   "execution_count": null,
   "id": "d6d9c03a-deff-4ff6-97c3-e07bbd682d23",
   "metadata": {},
   "outputs": [],
   "source": [
    "torch.cuda.empty_cache()"
   ]
  },
  {
   "cell_type": "code",
   "execution_count": null,
   "id": "24600e45-e9bd-4c81-90f3-20d6ea652c23",
   "metadata": {},
   "outputs": [],
   "source": [
    "def augment(data_row):\n",
    "    prompt = dedent(f\"\"\"\n",
    "    {data_row['question']}\n",
    "\n",
    "    Information:\n",
    "\n",
    "    ```\n",
    "    {data_row['context']}\n",
    "    ```\n",
    "    \"\"\")\n",
    "    messages = [\n",
    "        {\"role\": \"system\", \"content\": \"Use only the information to answer the question\"},\n",
    "        {\"role\": \"user\", \"content\": prompt},\n",
    "    ]\n",
    "\n",
    "    return tokenizer.apply_chat_template(messages,tokenize=False,add_generation_prompt=True)\n",
    "    "
   ]
  },
  {
   "cell_type": "code",
   "execution_count": null,
   "id": "0f9e61e5-fa60-4a3a-9df6-72a9c880ce6d",
   "metadata": {},
   "outputs": [],
   "source": [
    "query = 'if i am to buy a house, which loan should i get and what are the details?'\n",
    "results = retreive(query,top_k=10)"
   ]
  },
  {
   "cell_type": "code",
   "execution_count": null,
   "id": "35f1e1d0-501e-4601-8508-b415efc44e8a",
   "metadata": {},
   "outputs": [],
   "source": [
    "data_row = {\n",
    "    'question':query,\n",
    "    'context':'\\n'.join(retreive(query))\n",
    "}"
   ]
  },
  {
   "cell_type": "code",
   "execution_count": null,
   "id": "64d39511-5cc4-4966-86d7-a60abe09b0fd",
   "metadata": {},
   "outputs": [],
   "source": [
    "prompt = augment(data_row)"
   ]
  },
  {
   "cell_type": "code",
   "execution_count": null,
   "id": "bdc089dc-b9d7-4b0d-8c68-da5c4027fd48",
   "metadata": {},
   "outputs": [],
   "source": [
    "result = gen(prompt)"
   ]
  },
  {
   "cell_type": "code",
   "execution_count": null,
   "id": "798756b4-e4df-46fa-832f-b35a293471a3",
   "metadata": {
    "scrolled": true
   },
   "outputs": [],
   "source": [
    "print(result)"
   ]
  },
  {
   "cell_type": "code",
   "execution_count": null,
   "id": "6f1da12b-9e9a-4d41-b6c5-ffeeec1cf8bc",
   "metadata": {},
   "outputs": [],
   "source": []
  },
  {
   "cell_type": "code",
   "execution_count": null,
   "id": "d505c9c6-1fad-4740-8a8c-707265fd3fb6",
   "metadata": {},
   "outputs": [],
   "source": []
  }
 ],
 "metadata": {
  "kernelspec": {
   "display_name": "Python 3 (ipykernel)",
   "language": "python",
   "name": "python3"
  },
  "language_info": {
   "codemirror_mode": {
    "name": "ipython",
    "version": 3
   },
   "file_extension": ".py",
   "mimetype": "text/x-python",
   "name": "python",
   "nbconvert_exporter": "python",
   "pygments_lexer": "ipython3",
   "version": "3.12.3"
  }
 },
 "nbformat": 4,
 "nbformat_minor": 5
}
