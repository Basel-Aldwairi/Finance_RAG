{
 "cells": [
  {
   "cell_type": "code",
   "execution_count": 1,
   "id": "cef99eec-16ce-4bd7-9e49-0e66c3dc4b45",
   "metadata": {},
   "outputs": [],
   "source": [
    "import pandas as pd\n",
    "import re\n",
    "from matplotlib import pyplot as plt\n",
    "import math"
   ]
  },
  {
   "cell_type": "code",
   "execution_count": 2,
   "id": "fa8012f3-04ee-4c4a-873f-9f3aef1fe601",
   "metadata": {},
   "outputs": [],
   "source": [
    "df = pd.read_csv('full_housing_scraped_data.csv',index_col=0)"
   ]
  },
  {
   "cell_type": "code",
   "execution_count": 3,
   "id": "52819734-8eb6-421f-95af-1f0a76f4c08c",
   "metadata": {},
   "outputs": [],
   "source": [
    "# df.head()"
   ]
  },
  {
   "cell_type": "code",
   "execution_count": 4,
   "id": "c830be1f-72f9-456b-9c20-d91fb1c9ac51",
   "metadata": {},
   "outputs": [],
   "source": [
    "texts = df['Text'].to_list()\n",
    "num_texts = len(texts)\n",
    "# max_dup = math.ceil(num_texts/2)\n",
    "max_dup = 3\n",
    "counting_dict = {}"
   ]
  },
  {
   "cell_type": "code",
   "execution_count": 5,
   "id": "fb4b5693-3ca2-4175-b5c4-033cb71c726f",
   "metadata": {},
   "outputs": [],
   "source": [
    "# texts"
   ]
  },
  {
   "cell_type": "code",
   "execution_count": 6,
   "id": "e3321d34-0832-4246-947c-6670be395746",
   "metadata": {},
   "outputs": [],
   "source": [
    "def remove_arabic(text):\n",
    "    arabic_pattern = re.compile(r'[\\u0600-\\u06FF\\u0750-\\u077F\\u08A0-\\u08FF]+')\n",
    "    text = arabic_pattern.sub('',text)\n",
    "    return text"
   ]
  },
  {
   "cell_type": "code",
   "execution_count": 7,
   "id": "3cbf94fc-093a-4ef6-8bef-393cea4ec017",
   "metadata": {},
   "outputs": [],
   "source": [
    "def remove_pics(text):\n",
    "    text = re.sub(r'\\S*\\.png\\S*','',text)\n",
    "    text = re.sub(r'\\S*\\.jpg\\S*','',text)\n",
    "    return re.sub(r'\\S*\\.jpeg\\S*','',text)"
   ]
  },
  {
   "cell_type": "code",
   "execution_count": 8,
   "id": "2d46d6e1-6b85-4c3d-8f99-5106a327217c",
   "metadata": {},
   "outputs": [],
   "source": [
    "def remove_links(text):\n",
    "    return re.sub(r'\\S*http\\S*', '', text)"
   ]
  },
  {
   "cell_type": "code",
   "execution_count": 9,
   "id": "e4820ad5-4c8b-42e5-8878-368b578a465d",
   "metadata": {},
   "outputs": [],
   "source": [
    "def remove_spaces(text):\n",
    "    return re.sub(r'\\s+',' ', text)"
   ]
  },
  {
   "cell_type": "code",
   "execution_count": 10,
   "id": "a17e4869-ac87-4f83-b743-94e96222c6f1",
   "metadata": {},
   "outputs": [],
   "source": [
    "def remove_short(text):\n",
    "    # print(len(text))\n",
    "    return text if len(text) > 50 else ''"
   ]
  },
  {
   "cell_type": "code",
   "execution_count": 11,
   "id": "b95005de-b8ff-4a12-be09-8301275d89ab",
   "metadata": {},
   "outputs": [],
   "source": [
    "def remove_dots(text):\n",
    "    return text if '...' not in text else ''"
   ]
  },
  {
   "cell_type": "code",
   "execution_count": 12,
   "id": "b4ecc5dd-911b-40fa-8f11-c544286503d2",
   "metadata": {},
   "outputs": [],
   "source": [
    "def remove_repeated(text):\n",
    "    if text not in counting_dict:\n",
    "        return ''\n",
    "    return text if counting_dict[text] < max_dup else ''"
   ]
  },
  {
   "cell_type": "code",
   "execution_count": 13,
   "id": "6312ca2a-1414-481d-9b06-6c730c973013",
   "metadata": {},
   "outputs": [],
   "source": [
    "def lowercase(text):\n",
    "    return text.lower()"
   ]
  },
  {
   "cell_type": "code",
   "execution_count": 14,
   "id": "4cad206e-7085-4061-8d58-dd5bf17b79f5",
   "metadata": {},
   "outputs": [],
   "source": [
    "def clean_text(text):\n",
    "    text = remove_arabic(text)\n",
    "    text = remove_links(text)\n",
    "    text = remove_pics(text)\n",
    "    text = remove_repeated(text)\n",
    "    # text = remove_short(text)\n",
    "    # text = remove_dots(text)\n",
    "    text = lowercase(text)\n",
    "\n",
    "    \n",
    "    text = remove_spaces(text)\n",
    "    \n",
    "    return text.strip()"
   ]
  },
  {
   "cell_type": "code",
   "execution_count": 15,
   "id": "9736cd15-4497-452b-831a-f5dc638a6546",
   "metadata": {},
   "outputs": [],
   "source": [
    "# text_sets = set()\n",
    "# for text in texts:\n",
    "#     text = str(text)\n",
    "#     if '...' not in text:\n",
    "#         text = clean_text(text)\n",
    "#         for line in text.splitlines():\n",
    "#             text_sets.add(line)\n",
    "#     # print(type(text))\n",
    "#     # print(f'{text[:100]}')\n",
    "#     # set_text = {line.strip() for line in str(text).splitlines() if line.strip()}\n",
    "#     # text_sets.add()"
   ]
  },
  {
   "cell_type": "code",
   "execution_count": 16,
   "id": "b51fec06-994d-470c-9a89-f0afd12a3b4b",
   "metadata": {},
   "outputs": [],
   "source": [
    "def add_count(text):\n",
    "    global counting_dict\n",
    "\n",
    "    if text in counting_dict:\n",
    "        counting_dict[text] += 1\n",
    "    else:\n",
    "        counting_dict[text] = 1"
   ]
  },
  {
   "cell_type": "code",
   "execution_count": null,
   "id": "daf8a0d4-ba67-4277-a5d7-dd533ef23245",
   "metadata": {},
   "outputs": [],
   "source": []
  },
  {
   "cell_type": "code",
   "execution_count": 17,
   "id": "2627ea4c-134b-474e-97aa-61f53c0eb3dd",
   "metadata": {},
   "outputs": [],
   "source": [
    "for text in texts:\n",
    "    for line in str(text).splitlines():\n",
    "        add_count(line)"
   ]
  },
  {
   "cell_type": "code",
   "execution_count": 18,
   "id": "c5ce9075-31c7-4692-abe2-57f5b405a84d",
   "metadata": {},
   "outputs": [],
   "source": [
    "# counting_list = [(k,v) for k, v in counting_dict.items()]"
   ]
  },
  {
   "cell_type": "code",
   "execution_count": 19,
   "id": "3d8f24ef-be26-48d4-a149-65d499f0943e",
   "metadata": {},
   "outputs": [],
   "source": [
    "# counting_list = sorted(counting_list, reverse=True,key= lambda x: x[1])"
   ]
  },
  {
   "cell_type": "code",
   "execution_count": 20,
   "id": "fa636843-74b9-42e2-a86a-200099ae5a91",
   "metadata": {},
   "outputs": [],
   "source": [
    "# counting_list[200]"
   ]
  },
  {
   "cell_type": "code",
   "execution_count": 21,
   "id": "da6b986f-1eb2-4c06-ab5c-086e07e3ed42",
   "metadata": {},
   "outputs": [],
   "source": [
    "# values = [x[1] for x in counting_list]\n",
    "# labels = [x[0] for x in counting_list]"
   ]
  },
  {
   "cell_type": "code",
   "execution_count": 22,
   "id": "6ac0e484-08bb-43dd-a01e-d05edf0db5a8",
   "metadata": {},
   "outputs": [],
   "source": [
    "# plt.bar(labels,values)\n",
    "# plt.show()"
   ]
  },
  {
   "cell_type": "code",
   "execution_count": 23,
   "id": "bd993f99-49a5-4d44-9390-ead4aa969cc7",
   "metadata": {},
   "outputs": [],
   "source": [
    "counter = len(texts)\n",
    "# print(counter)\n",
    "new_list = []\n",
    "for i in range(counter):\n",
    "    new_line = []\n",
    "    new_text = ''\n",
    "    # print(i)\n",
    "    text = str(texts[i])\n",
    "    # print('text')\n",
    "    for line in text.splitlines():\n",
    "        line = clean_text(line)\n",
    "        # print(len(line))\n",
    "        # print(line)\n",
    "        if line:\n",
    "            # print(line)\n",
    "            new_line.append(line)\n",
    "    new_text = ''\n",
    "    if len(new_line) > 1:\n",
    "        new_text = ' '.join(new_line)\n",
    "    new_list.append(new_text)"
   ]
  },
  {
   "cell_type": "code",
   "execution_count": 24,
   "id": "51bb2619-049f-4524-bf83-82defca45d93",
   "metadata": {},
   "outputs": [],
   "source": [
    "# len(new_list)"
   ]
  },
  {
   "cell_type": "code",
   "execution_count": 25,
   "id": "c88c9e85-fa11-459f-aae0-d156e74fe7f1",
   "metadata": {},
   "outputs": [],
   "source": [
    "# new_list"
   ]
  },
  {
   "cell_type": "code",
   "execution_count": 26,
   "id": "086be02b-bbd5-4b35-9462-9101147a0f95",
   "metadata": {},
   "outputs": [],
   "source": [
    "# print(len(new_list))\n",
    "df['Text'] = new_list"
   ]
  },
  {
   "cell_type": "code",
   "execution_count": 27,
   "id": "51374e71-ac51-4c6f-8df0-af09314098cd",
   "metadata": {},
   "outputs": [],
   "source": [
    "df.to_csv('full_housing_eda.csv',index=False)"
   ]
  },
  {
   "cell_type": "code",
   "execution_count": 28,
   "id": "5d858a88-fddb-4bd4-b3d7-7d71f695da6f",
   "metadata": {},
   "outputs": [],
   "source": [
    "# len(text_sets)"
   ]
  },
  {
   "cell_type": "code",
   "execution_count": 29,
   "id": "2b38e87d-8a43-4005-b31b-983875e2e71b",
   "metadata": {},
   "outputs": [],
   "source": [
    "# text_sets"
   ]
  },
  {
   "cell_type": "code",
   "execution_count": 30,
   "id": "95faa260-cea4-464d-992a-a575533a90de",
   "metadata": {},
   "outputs": [],
   "source": [
    "# sum = 0\n",
    "# for text in texts:\n",
    "#     sum += len(str(text))\n",
    "# print(sum)"
   ]
  },
  {
   "cell_type": "code",
   "execution_count": 31,
   "id": "087e7d0b-f32d-4935-ad5c-6248a4c83643",
   "metadata": {},
   "outputs": [],
   "source": [
    "# list_text = list(text_sets)"
   ]
  },
  {
   "cell_type": "code",
   "execution_count": 32,
   "id": "88f3e9ad-8ed5-478e-baf8-b5a129d281e1",
   "metadata": {},
   "outputs": [],
   "source": [
    "# with open('eda_test.txt', 'w', encoding='utf-8') as f:\n",
    "#     f.writelines(list_text)"
   ]
  },
  {
   "cell_type": "code",
   "execution_count": 33,
   "id": "ab6e7d23-3c0c-4b5f-ab80-657b74bc6e6c",
   "metadata": {},
   "outputs": [],
   "source": [
    "# s = 'Iskan Young'\n",
    "# s.lower"
   ]
  },
  {
   "cell_type": "code",
   "execution_count": 34,
   "id": "69ad7993-1cd2-4b4b-9e74-2b095a4b84de",
   "metadata": {},
   "outputs": [],
   "source": [
    "# print(len(clean_text(s)))\n",
    "# print(clean_text(s))"
   ]
  },
  {
   "cell_type": "code",
   "execution_count": 35,
   "id": "2c38099f-adab-4723-aa60-4816225b38b1",
   "metadata": {},
   "outputs": [],
   "source": [
    "# print(remove_links(s))"
   ]
  },
  {
   "cell_type": "code",
   "execution_count": null,
   "id": "0075c094-dcd2-4dc8-8675-58629e02745a",
   "metadata": {},
   "outputs": [],
   "source": []
  }
 ],
 "metadata": {
  "kernelspec": {
   "display_name": "Python 3 (ipykernel)",
   "language": "python",
   "name": "python3"
  },
  "language_info": {
   "codemirror_mode": {
    "name": "ipython",
    "version": 3
   },
   "file_extension": ".py",
   "mimetype": "text/x-python",
   "name": "python",
   "nbconvert_exporter": "python",
   "pygments_lexer": "ipython3",
   "version": "3.12.3"
  }
 },
 "nbformat": 4,
 "nbformat_minor": 5
}
