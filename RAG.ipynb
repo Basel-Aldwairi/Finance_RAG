{
 "cells": [
  {
   "cell_type": "code",
   "execution_count": 1,
   "id": "859b913c-122e-446b-acc8-49f7b8e7e769",
   "metadata": {},
   "outputs": [
    {
     "name": "stdout",
     "output_type": "stream",
     "text": [
      "INFO 09-28 09:51:14 [__init__.py:216] Automatically detected platform cuda.\n"
     ]
    }
   ],
   "source": [
    "from sentence_transformers import SentenceTransformer\n",
    "import faiss\n",
    "from transformers import AutoTokenizer, AutoModelForCausalLM, pipeline\n",
    "import numpy as np\n",
    "from textwrap import dedent\n",
    "import pandas as pd\n",
    "from langchain.text_splitter import RecursiveCharacterTextSplitter\n",
    "from vllm import LLM, SamplingParams\n",
    "import torch\n",
    "import re"
   ]
  },
  {
   "cell_type": "code",
   "execution_count": 2,
   "id": "8dfe8412-7ea3-4630-9fa7-9847dd1a2893",
   "metadata": {},
   "outputs": [],
   "source": [
    "torch.backends.cuda.matmul.allow_tf32 = True"
   ]
  },
  {
   "cell_type": "code",
   "execution_count": 3,
   "id": "9ff9f9d0-7165-49c5-9b43-e4f3d0ca2091",
   "metadata": {},
   "outputs": [],
   "source": [
    "embed_model = SentenceTransformer('all-MiniLM-L6-v2')"
   ]
  },
  {
   "cell_type": "code",
   "execution_count": 4,
   "id": "19359924-7340-41b3-8701-b82850bca451",
   "metadata": {},
   "outputs": [],
   "source": [
    "splitter = RecursiveCharacterTextSplitter(\n",
    "    chunk_size = 1000,\n",
    "    chunk_overlap = 100\n",
    ")"
   ]
  },
  {
   "cell_type": "code",
   "execution_count": 5,
   "id": "c8d532c3-9a4a-4381-9d5b-70b448fa3892",
   "metadata": {},
   "outputs": [],
   "source": [
    "df = pd.read_csv('full_housing_eda.csv')"
   ]
  },
  {
   "cell_type": "code",
   "execution_count": 6,
   "id": "21667e88-0cce-492f-bcc2-d4dd1c36f34f",
   "metadata": {},
   "outputs": [],
   "source": [
    "texts = df['Text'].to_list()"
   ]
  },
  {
   "cell_type": "code",
   "execution_count": 7,
   "id": "4dd6af36-baa1-41ad-a362-c263b9749a0a",
   "metadata": {},
   "outputs": [],
   "source": [
    "def chunk_text(text,chunk_size=500,chunk_overlap=100):\n",
    "    words = str(text).split()\n",
    "    chunks = []\n",
    "\n",
    "    for i in range(0,len(words),chunk_size - chunk_overlap):\n",
    "        chunk = ' '.join(words[i: i+ chunk_size])\n",
    "        chunks.append(chunk)\n",
    "\n",
    "    return chunks"
   ]
  },
  {
   "cell_type": "code",
   "execution_count": 8,
   "id": "8c9e7f78-1603-45f1-9057-bf8976823c14",
   "metadata": {},
   "outputs": [],
   "source": [
    "chunked_texts = list(map(chunk_text,texts))"
   ]
  },
  {
   "cell_type": "code",
   "execution_count": 9,
   "id": "1be28f3c-92df-42be-9709-944492d14256",
   "metadata": {},
   "outputs": [],
   "source": [
    "# chunked_texts"
   ]
  },
  {
   "cell_type": "code",
   "execution_count": 10,
   "id": "bfde2a8e-6cc9-426f-a14a-dfc815af28ef",
   "metadata": {},
   "outputs": [],
   "source": [
    "docs = chunked_texts"
   ]
  },
  {
   "cell_type": "code",
   "execution_count": 11,
   "id": "85d26fc1-5bac-4332-af03-8d33c8eeee6e",
   "metadata": {},
   "outputs": [],
   "source": [
    "flat_docs = [chunk for doc in docs for chunk in doc]"
   ]
  },
  {
   "cell_type": "code",
   "execution_count": 12,
   "id": "171231e2-a3c2-4860-b00a-2d0beb1b899f",
   "metadata": {},
   "outputs": [],
   "source": [
    "doc_embeddings = embed_model.encode(flat_docs,convert_to_numpy=True)"
   ]
  },
  {
   "cell_type": "code",
   "execution_count": 13,
   "id": "cf23ba40-d27a-4fd6-a922-4e460b795cc7",
   "metadata": {},
   "outputs": [],
   "source": [
    "faiss.normalize_L2(doc_embeddings)"
   ]
  },
  {
   "cell_type": "code",
   "execution_count": 14,
   "id": "f5769fc0-7200-4da8-aeed-b15b52697db5",
   "metadata": {},
   "outputs": [],
   "source": [
    "index = faiss.IndexFlatL2(doc_embeddings.shape[1])\n",
    "index.add(doc_embeddings)"
   ]
  },
  {
   "cell_type": "code",
   "execution_count": 15,
   "id": "b981a04e-8cdf-41f0-b61e-06d52bc6d351",
   "metadata": {},
   "outputs": [],
   "source": [
    "id2doc= {i: flat_docs[i] for i in range(len(flat_docs))} "
   ]
  },
  {
   "cell_type": "code",
   "execution_count": 16,
   "id": "887e4cb8-77c1-4b39-b250-3fc7185b88e2",
   "metadata": {},
   "outputs": [],
   "source": [
    "def retreive(query, top_k=3):\n",
    "    q_emb = embed_model.encode([query],convert_to_numpy=True)\n",
    "    faiss.normalize_L2(q_emb)\n",
    "\n",
    "    D, I =index.search(q_emb,top_k)\n",
    "\n",
    "    retreived_docs = [id2doc[i] for i in I[0]]\n",
    "    return retreived_docs\n"
   ]
  },
  {
   "cell_type": "code",
   "execution_count": 17,
   "id": "c4a3fdc9-6fcd-43bf-946c-1fca747ac14c",
   "metadata": {},
   "outputs": [],
   "source": [
    "torch.cuda.empty_cache()"
   ]
  },
  {
   "cell_type": "code",
   "execution_count": 18,
   "id": "68d7bb92-952d-4402-9ab2-331f40721dc2",
   "metadata": {},
   "outputs": [],
   "source": [
    "# Load model and tokenizer\n",
    "model_id = \"LiquidAI/LFM2-2.6B\"\n",
    "model = AutoModelForCausalLM.from_pretrained(\n",
    "    model_id,\n",
    "    device_map=None,\n",
    "    dtype=\"bfloat16\",\n",
    "#    attn_implementation=\"flash_attention_2\" <- uncomment on compatible GPU\n",
    ").to('cuda')\n",
    "tokenizer = AutoTokenizer.from_pretrained(model_id)"
   ]
  },
  {
   "cell_type": "code",
   "execution_count": 19,
   "id": "d53ef357-f565-484c-9c00-062e69ac13d5",
   "metadata": {},
   "outputs": [],
   "source": [
    "def gen(prompt):\n",
    "    input_ids = tokenizer.apply_chat_template(\n",
    "        [{\"role\": \"user\", \"content\": prompt}],\n",
    "        add_generation_prompt=True,\n",
    "        return_tensors=\"pt\",\n",
    "        tokenize=True,\n",
    "    ).to(model.device)\n",
    "    \n",
    "    output = model.generate(input_ids,do_sample=True,temperature=0.3,min_p=0.15,repetition_penalty=1.05,max_new_tokens=1024)\n",
    "\n",
    "\n",
    "    raw_output = tokenizer.decode(output[0], skip_special_tokens=False)\n",
    "    print(raw_output)\n",
    "    matches = re.findall(r\"<\\|im_start\\|>assistant\\s*(.*?)(?=<\\|im_end\\|>)\", raw_output, re.S)\n",
    "    if matches:\n",
    "        return matches[-1].strip()"
   ]
  },
  {
   "cell_type": "code",
   "execution_count": 20,
   "id": "d6d9c03a-deff-4ff6-97c3-e07bbd682d23",
   "metadata": {},
   "outputs": [],
   "source": [
    "torch.cuda.empty_cache()"
   ]
  },
  {
   "cell_type": "code",
   "execution_count": 21,
   "id": "24600e45-e9bd-4c81-90f3-20d6ea652c23",
   "metadata": {},
   "outputs": [],
   "source": [
    "def augment(data_row):\n",
    "    prompt = dedent(f\"\"\"\n",
    "    {data_row['question']}\n",
    "\n",
    "    Information:\n",
    "\n",
    "    ```\n",
    "    {data_row['context']}\n",
    "    ```\n",
    "    \"\"\")\n",
    "    messages = [\n",
    "        {\"role\": \"system\", \"content\": \"Use only the information to answer the question\"},\n",
    "        {\"role\": \"user\", \"content\": prompt},\n",
    "    ]\n",
    "\n",
    "    return tokenizer.apply_chat_template(messages,tokenize=False,add_generation_prompt=True)\n",
    "    "
   ]
  },
  {
   "cell_type": "code",
   "execution_count": 22,
   "id": "0f9e61e5-fa60-4a3a-9df6-72a9c880ce6d",
   "metadata": {},
   "outputs": [],
   "source": [
    "query = 'if i am to buy a house, which loan should i get and what are the details?'\n",
    "results = retreive(query,top_k=10)"
   ]
  },
  {
   "cell_type": "code",
   "execution_count": 23,
   "id": "35f1e1d0-501e-4601-8508-b415efc44e8a",
   "metadata": {},
   "outputs": [],
   "source": [
    "data_row = {\n",
    "    'question':query,\n",
    "    'context':'\\n'.join(retreive(query))\n",
    "}"
   ]
  },
  {
   "cell_type": "code",
   "execution_count": 24,
   "id": "64d39511-5cc4-4966-86d7-a60abe09b0fd",
   "metadata": {},
   "outputs": [],
   "source": [
    "prompt = augment(data_row)"
   ]
  },
  {
   "cell_type": "code",
   "execution_count": 25,
   "id": "bdc089dc-b9d7-4b0d-8c68-da5c4027fd48",
   "metadata": {},
   "outputs": [
    {
     "name": "stdout",
     "output_type": "stream",
     "text": [
      "<|startoftext|><|im_start|>user\n",
      "<|startoftext|><|im_start|>system\n",
      "Use only the information to answer the question<|im_end|>\n",
      "<|im_start|>user\n",
      "\n",
      "    if i am to buy a house, which loan should i get and what are the details?\n",
      "\n",
      "    Information:\n",
      "\n",
      "    ```\n",
      "    what is a housing loan for? -financing the purchase of residential apartments and houses -finishing a house under construction or erecting a new one -buying a piece of land and developing it for construction -expanding an existing building what is the minimum income to request housing loan? the minimum income required to request a housing loan is 350 jods why is the “housing loan” from housing bank your perfect solution? - grace period up to 6 months in case of purchases and up to 24 months for construction. - competitive interest rate. - pre-approved credit card with free subscription fees for the first year. - life insurance coverage. - various financing purposes (purchasing a personal residence, building a personal residence, expanding an existing building, purchasing land to build a personal residence). - financing up to 100% of the real-estate estimated value. - unlimited loan limit tenor of loan up to 30 years - the ability to finance expatriates. what documents should i bring to get a housing loan? salary certificate or proof of income presale or initial sale contract [applicable in case of buying] / property registration document [property deed] / landscape blueprint [land map issued by land registration department] / site location blueprint real-estate / license proof of identity [i.d] what is the interest rate on a housing loan? learn more about the interest rates and charges how do i apply for a job at housing bank? hbtf always seeks to attract employees who possess excellent academic and professional qualifications. to submit an application, cli ck here what are the main banking services that the bank provides in palestine? the bank’s branches in palestine provide a range of personal services, and an array of innovative and unique financial solutions suited for customers in the retail and corporate sectors. what are the main banking services that the bank provide in bahrain? bahrain branch provides a range of financials solutions and banking services to corporate, sme and high net worth individuals. customers can access both short- and long-term financing options and robust trade finance services designed to facilitate seamless international and domestic trade do i need the beneficiary’s iban when sending interbank transfers across international borders? yes, if the beneficiary is in a country that uses iban, otherwise, the request with be rejected.\n",
      "interest rates and fees. if any clauses are unclear, consult a financial advisor for clarity. tips for choosing well and using your loan wisely clearly assess the necessity of your financing needs. review and compare available financing offers more than once. develop a realistic repayment plan and assess the loan’s impact on your monthly budget. keep a copy of your loan contract and review it periodically. your journey to financial stability begins with a conscious decision when planned carefully and used responsibly, loans can be a valuable tool to enhance your financial stability, support your goals, and empower your ambitions\n",
      "housing loans - housing bank own your home starting from 7% interest rate loan tenure up to 30 years including a grace period for new granting loans grace period up to 6 months in case of purchase and up to 24 months for construction free credit card issuance fees for the first year only interest rate starting from 7% for salaried customers loan commission fees are 1% (only for the first year) the ability of finance self-employed and expatriates ability to buyout loans from other banks minimum loan amount is 5,000 jod minimum loan tenor is 12 months maximum dbr is 50% & up to 60% for social security retirees minimum age is 18 years and not to exceed 75 years at the end of the loan tenor minimum working experience is 3 months ability to finance jordanian residents, non-resident jordanians, non-jordanian residents in jordan (arab and foreign nationalities) for personal purposes only. installment deferral fee amount is 10 jod loan accounts will be transferred to non – performing loan account when payments of the interest or principal are past due by 90 days or more property mortgage 100% of the loan amount. required documents income verification letter, latest salary slip, bank statement for the last 6 months property organization scheme, site plan, construction license, and property registration document, and contract of sale company registration certificate for entities, valid profession license, practice profession license, and association membership certificate property appraisal or construction cost the bank has the right to request additional documents. own your home! easy approval conditions and competitive interest rates faqs about housing loans what is the interest rate on a housing loan? learn more about the interest rates and charges what is a housing loan for? -financing the purchase of residential apartments and houses -finishing a house under construction or erecting a new one -buying a piece of land and developing it for construction -expanding an existing building what is the minimum income to request housing loan? the minimum income required to request a housing loan is 350 jods\n",
      "    ```\n",
      "<|im_end|>\n",
      "<|im_start|>assistant\n",
      "<|im_end|>\n",
      "<|im_start|>assistant\n",
      "If you're considering buying a house or undertaking related projects in Palestine, here's a summary of the key details regarding housing loans offered by Housing Bank:\n",
      "\n",
      "### **What is a Housing Loan?**\n",
      "A housing loan finances:\n",
      "- Purchase of residential apartments and houses  \n",
      "- Completion of a house under construction or erecting a new one  \n",
      "- Buying land and developing it for construction  \n",
      "- Expansion of an existing building  \n",
      "\n",
      "### **Minimum Income Requirement**\n",
      "The minimum income required to request a housing loan is **350 JOD** per month.\n",
      "\n",
      "### **Why Choose Housing Bank?**\n",
      "- **Grace Period:** Up to 6 months for purchases, up to 24 months for construction  \n",
      "- **Competitive Interest Rates**  \n",
      "- **Pre-approved credit card** with free subscription fees for the first year  \n",
      "- **Life insurance coverage** included  \n",
      "- **Flexible financing** for various purposes: personal residence, building, expansion, land development  \n",
      "- **Loan up to 100% of the estimated real estate value**  \n",
      "- **Loan tenor up to 30 years**  \n",
      "- **Unlimited loan limit**  \n",
      "- **Support for expatriates**  \n",
      "\n",
      "### **Documents Required**\n",
      "To apply, you’ll need:\n",
      "- Salary certificate or proof of income  \n",
      "- Presale or initial sale contract (if purchasing)  \n",
      "- Property registration document (land deed)  \n",
      "- Landscape blueprint or site location blueprint  \n",
      "- Real estate title deed  \n",
      "- Identity license (I.D.)  \n",
      "\n",
      "*Note: Additional documents may be requested, such as income verification, bank statements, property appraisal, construction plans, and legal certificates.*\n",
      "\n",
      "### **Interest Rate**\n",
      "Housing Bank offers a **minimum interest rate of 7%** for salaried customers. The exact rate may vary based on loan terms and customer profile. For precise rates, refer to official offers or contact the bank.\n",
      "\n",
      "### **Application Process**\n",
      "- Apply through the bank’s official channels or via their website/app.  \n",
      "- Ensure all documents are complete and accurate.  \n",
      "- Consult a financial advisor if needed to understand terms and conditions fully.\n",
      "\n",
      "### **Additional Tips**\n",
      "- Carefully assess your financing needs before applying.  \n",
      "- Compare offers and consider long-term affordability.  \n",
      "- Keep a copy of your loan agreement and review it regularly.  \n",
      "- Use the loan responsibly to achieve financial stability and support your goals.\n",
      "\n",
      "For the most accurate and up-to-date information, visit Housing Bank’s official website or contact their customer service directly.<|im_end|>\n"
     ]
    }
   ],
   "source": [
    "result = gen(prompt)"
   ]
  },
  {
   "cell_type": "code",
   "execution_count": 26,
   "id": "798756b4-e4df-46fa-832f-b35a293471a3",
   "metadata": {
    "scrolled": true
   },
   "outputs": [
    {
     "name": "stdout",
     "output_type": "stream",
     "text": [
      "If you're considering buying a house or undertaking related projects in Palestine, here's a summary of the key details regarding housing loans offered by Housing Bank:\n",
      "\n",
      "### **What is a Housing Loan?**\n",
      "A housing loan finances:\n",
      "- Purchase of residential apartments and houses  \n",
      "- Completion of a house under construction or erecting a new one  \n",
      "- Buying land and developing it for construction  \n",
      "- Expansion of an existing building  \n",
      "\n",
      "### **Minimum Income Requirement**\n",
      "The minimum income required to request a housing loan is **350 JOD** per month.\n",
      "\n",
      "### **Why Choose Housing Bank?**\n",
      "- **Grace Period:** Up to 6 months for purchases, up to 24 months for construction  \n",
      "- **Competitive Interest Rates**  \n",
      "- **Pre-approved credit card** with free subscription fees for the first year  \n",
      "- **Life insurance coverage** included  \n",
      "- **Flexible financing** for various purposes: personal residence, building, expansion, land development  \n",
      "- **Loan up to 100% of the estimated real estate value**  \n",
      "- **Loan tenor up to 30 years**  \n",
      "- **Unlimited loan limit**  \n",
      "- **Support for expatriates**  \n",
      "\n",
      "### **Documents Required**\n",
      "To apply, you’ll need:\n",
      "- Salary certificate or proof of income  \n",
      "- Presale or initial sale contract (if purchasing)  \n",
      "- Property registration document (land deed)  \n",
      "- Landscape blueprint or site location blueprint  \n",
      "- Real estate title deed  \n",
      "- Identity license (I.D.)  \n",
      "\n",
      "*Note: Additional documents may be requested, such as income verification, bank statements, property appraisal, construction plans, and legal certificates.*\n",
      "\n",
      "### **Interest Rate**\n",
      "Housing Bank offers a **minimum interest rate of 7%** for salaried customers. The exact rate may vary based on loan terms and customer profile. For precise rates, refer to official offers or contact the bank.\n",
      "\n",
      "### **Application Process**\n",
      "- Apply through the bank’s official channels or via their website/app.  \n",
      "- Ensure all documents are complete and accurate.  \n",
      "- Consult a financial advisor if needed to understand terms and conditions fully.\n",
      "\n",
      "### **Additional Tips**\n",
      "- Carefully assess your financing needs before applying.  \n",
      "- Compare offers and consider long-term affordability.  \n",
      "- Keep a copy of your loan agreement and review it regularly.  \n",
      "- Use the loan responsibly to achieve financial stability and support your goals.\n",
      "\n",
      "For the most accurate and up-to-date information, visit Housing Bank’s official website or contact their customer service directly.\n"
     ]
    }
   ],
   "source": [
    "print(result)"
   ]
  },
  {
   "cell_type": "code",
   "execution_count": null,
   "id": "6f1da12b-9e9a-4d41-b6c5-ffeeec1cf8bc",
   "metadata": {},
   "outputs": [],
   "source": []
  },
  {
   "cell_type": "code",
   "execution_count": null,
   "id": "d505c9c6-1fad-4740-8a8c-707265fd3fb6",
   "metadata": {},
   "outputs": [],
   "source": []
  }
 ],
 "metadata": {
  "kernelspec": {
   "display_name": "Python 3 (ipykernel)",
   "language": "python",
   "name": "python3"
  },
  "language_info": {
   "codemirror_mode": {
    "name": "ipython",
    "version": 3
   },
   "file_extension": ".py",
   "mimetype": "text/x-python",
   "name": "python",
   "nbconvert_exporter": "python",
   "pygments_lexer": "ipython3",
   "version": "3.12.3"
  }
 },
 "nbformat": 4,
 "nbformat_minor": 5
}
